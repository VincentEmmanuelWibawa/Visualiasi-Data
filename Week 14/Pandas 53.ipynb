{
 "cells": [
  {
   "cell_type": "markdown",
   "id": "5aeac5e0-5933-4dcc-8e3a-dfc8aef58738",
   "metadata": {},
   "source": [
    "# Import Modules"
   ]
  },
  {
   "cell_type": "code",
   "execution_count": 1,
   "id": "4e20781f-3afd-4cea-8ec6-5deed831528b",
   "metadata": {},
   "outputs": [
    {
     "name": "stdout",
     "output_type": "stream",
     "text": [
      "2.2.2\n"
     ]
    }
   ],
   "source": [
    "import pandas as pd\n",
    "\n",
    "print(pd.__version__)"
   ]
  },
  {
   "cell_type": "markdown",
   "id": "6430dc0e-34aa-47de-bf79-805ae0ee0141",
   "metadata": {},
   "source": [
    "# Persiapan Data Frame"
   ]
  },
  {
   "cell_type": "code",
   "execution_count": 3,
   "id": "87f5022c-a8e4-4bea-bd2a-14383b80b8bf",
   "metadata": {},
   "outputs": [
    {
     "data": {
      "text/html": [
       "<div>\n",
       "<style scoped>\n",
       "    .dataframe tbody tr th:only-of-type {\n",
       "        vertical-align: middle;\n",
       "    }\n",
       "\n",
       "    .dataframe tbody tr th {\n",
       "        vertical-align: top;\n",
       "    }\n",
       "\n",
       "    .dataframe thead th {\n",
       "        text-align: right;\n",
       "    }\n",
       "</style>\n",
       "<table border=\"1\" class=\"dataframe\">\n",
       "  <thead>\n",
       "    <tr style=\"text-align: right;\">\n",
       "      <th></th>\n",
       "      <th>hobi</th>\n",
       "    </tr>\n",
       "  </thead>\n",
       "  <tbody>\n",
       "    <tr>\n",
       "      <th>0</th>\n",
       "      <td>jogging</td>\n",
       "    </tr>\n",
       "    <tr>\n",
       "      <th>1</th>\n",
       "      <td>mancing</td>\n",
       "    </tr>\n",
       "    <tr>\n",
       "      <th>2</th>\n",
       "      <td>renang</td>\n",
       "    </tr>\n",
       "    <tr>\n",
       "      <th>3</th>\n",
       "      <td>mancing</td>\n",
       "    </tr>\n",
       "    <tr>\n",
       "      <th>4</th>\n",
       "      <td>mancing</td>\n",
       "    </tr>\n",
       "    <tr>\n",
       "      <th>5</th>\n",
       "      <td>baca</td>\n",
       "    </tr>\n",
       "    <tr>\n",
       "      <th>6</th>\n",
       "      <td>baca</td>\n",
       "    </tr>\n",
       "    <tr>\n",
       "      <th>7</th>\n",
       "      <td>mancing</td>\n",
       "    </tr>\n",
       "    <tr>\n",
       "      <th>8</th>\n",
       "      <td>fotograsi</td>\n",
       "    </tr>\n",
       "    <tr>\n",
       "      <th>9</th>\n",
       "      <td>mancing</td>\n",
       "    </tr>\n",
       "    <tr>\n",
       "      <th>10</th>\n",
       "      <td>camping</td>\n",
       "    </tr>\n",
       "  </tbody>\n",
       "</table>\n",
       "</div>"
      ],
      "text/plain": [
       "         hobi\n",
       "0     jogging\n",
       "1     mancing\n",
       "2      renang\n",
       "3     mancing\n",
       "4     mancing\n",
       "5        baca\n",
       "6        baca\n",
       "7     mancing\n",
       "8   fotograsi\n",
       "9     mancing\n",
       "10    camping"
      ]
     },
     "execution_count": 3,
     "metadata": {},
     "output_type": "execute_result"
    }
   ],
   "source": [
    "d = {'hobi':['jogging', 'mancing', 'renang',\n",
    "             'mancing', 'mancing', 'baca', \n",
    "             'baca', 'mancing', 'fotograsi', \n",
    "             'mancing', 'camping']}\n",
    "\n",
    "df = pd.DataFrame(d)\n",
    "df"
   ]
  },
  {
   "cell_type": "markdown",
   "id": "a6c6726b-126c-4185-8287-9073107aee3f",
   "metadata": {},
   "source": [
    "# Membuat kategori baru berdasarkan threshold (ambang batas)"
   ]
  },
  {
   "cell_type": "code",
   "execution_count": 5,
   "id": "2a3c175d-0d2a-4434-bf93-07baf01f4c48",
   "metadata": {},
   "outputs": [
    {
     "data": {
      "text/plain": [
       "hobi\n",
       "mancing      5\n",
       "baca         2\n",
       "jogging      1\n",
       "renang       1\n",
       "fotograsi    1\n",
       "camping      1\n",
       "Name: count, dtype: int64"
      ]
     },
     "execution_count": 5,
     "metadata": {},
     "output_type": "execute_result"
    }
   ],
   "source": [
    "df['hobi'].value_counts()"
   ]
  },
  {
   "cell_type": "code",
   "execution_count": 7,
   "id": "f5a4e88c-9c6b-4bc6-97e6-251c976ae424",
   "metadata": {},
   "outputs": [
    {
     "data": {
      "text/plain": [
       "hobi\n",
       "mancing      0.454545\n",
       "baca         0.181818\n",
       "jogging      0.090909\n",
       "renang       0.090909\n",
       "fotograsi    0.090909\n",
       "camping      0.090909\n",
       "Name: proportion, dtype: float64"
      ]
     },
     "execution_count": 7,
     "metadata": {},
     "output_type": "execute_result"
    }
   ],
   "source": [
    "persentase = df['hobi'].value_counts(normalize=True)\n",
    "persentase"
   ]
  },
  {
   "cell_type": "code",
   "execution_count": 9,
   "id": "12a5eb06-5a6b-487c-9723-198cd6c089ce",
   "metadata": {},
   "outputs": [
    {
     "data": {
      "text/plain": [
       "Index(['jogging', 'renang', 'fotograsi', 'camping'], dtype='object', name='hobi')"
      ]
     },
     "execution_count": 9,
     "metadata": {},
     "output_type": "execute_result"
    }
   ],
   "source": [
    "threshold = 0.1\n",
    "hobi_lain = persentase[persentase < threshold].index\n",
    "hobi_lain"
   ]
  },
  {
   "cell_type": "code",
   "execution_count": 11,
   "id": "dccdb32e-c86b-47a6-964d-b2bbc501d5b3",
   "metadata": {},
   "outputs": [
    {
     "data": {
      "text/plain": [
       "0     lainnya\n",
       "1     mancing\n",
       "2     lainnya\n",
       "3     mancing\n",
       "4     mancing\n",
       "5        baca\n",
       "6        baca\n",
       "7     mancing\n",
       "8     lainnya\n",
       "9     mancing\n",
       "10    lainnya\n",
       "Name: hobi, dtype: object"
      ]
     },
     "execution_count": 11,
     "metadata": {},
     "output_type": "execute_result"
    }
   ],
   "source": [
    "df['hobi'] = df['hobi'].replace(hobi_lain, 'lainnya')\n",
    "df['hobi']"
   ]
  },
  {
   "cell_type": "code",
   "execution_count": 13,
   "id": "c95095f4-f4cf-4b59-99d9-d54a3b943f08",
   "metadata": {},
   "outputs": [
    {
     "data": {
      "text/plain": [
       "hobi\n",
       "mancing    0.454545\n",
       "lainnya    0.363636\n",
       "baca       0.181818\n",
       "Name: proportion, dtype: float64"
      ]
     },
     "execution_count": 13,
     "metadata": {},
     "output_type": "execute_result"
    }
   ],
   "source": [
    "df['hobi'].value_counts(normalize=True)"
   ]
  },
  {
   "cell_type": "code",
   "execution_count": null,
   "id": "ac2b022c-bf39-4308-99ba-07a87640391e",
   "metadata": {},
   "outputs": [],
   "source": []
  }
 ],
 "metadata": {
  "kernelspec": {
   "display_name": "Python 3 (ipykernel)",
   "language": "python",
   "name": "python3"
  },
  "language_info": {
   "codemirror_mode": {
    "name": "ipython",
    "version": 3
   },
   "file_extension": ".py",
   "mimetype": "text/x-python",
   "name": "python",
   "nbconvert_exporter": "python",
   "pygments_lexer": "ipython3",
   "version": "3.12.4"
  }
 },
 "nbformat": 4,
 "nbformat_minor": 5
}
